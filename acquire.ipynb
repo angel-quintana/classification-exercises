{
 "cells": [
  {
   "cell_type": "code",
   "execution_count": 1,
   "id": "f13d10b4",
   "metadata": {},
   "outputs": [],
   "source": [
    "import numpy as np\n",
    "import seaborn as sns\n",
    "import scipy.stats as stats\n",
    "import pandas as pd\n",
    "import matplotlib.pyplot as plt\n",
    "from pydataset import data\n",
    "import env"
   ]
  },
  {
   "cell_type": "code",
   "execution_count": 2,
   "id": "6d74d7c9",
   "metadata": {},
   "outputs": [
    {
     "data": {
      "text/plain": [
       "<module 'env' from '/Users/angelquintana/codeup-data-science/classification-exercises/env.py'>"
      ]
     },
     "execution_count": 2,
     "metadata": {},
     "output_type": "execute_result"
    }
   ],
   "source": []
  },
  {
   "cell_type": "code",
   "execution_count": null,
   "id": "6e25c801",
   "metadata": {},
   "outputs": [],
   "source": []
  }
 ],
 "metadata": {
  "kernelspec": {
   "display_name": "Python 3 (ipykernel)",
   "language": "python",
   "name": "python3"
  },
  "language_info": {
   "codemirror_mode": {
    "name": "ipython",
    "version": 3
   },
   "file_extension": ".py",
   "mimetype": "text/x-python",
   "name": "python",
   "nbconvert_exporter": "python",
   "pygments_lexer": "ipython3",
   "version": "3.11.5"
  }
 },
 "nbformat": 4,
 "nbformat_minor": 5
}
